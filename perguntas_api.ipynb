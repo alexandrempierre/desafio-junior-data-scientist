{
 "cells": [
  {
   "cell_type": "markdown",
   "metadata": {},
   "source": [
    "## Integração com APIs: Feriados e Tempo\n",
    "\n",
    "### Utilize as APIs públicas abaixo para responder às questões 1-8:\n",
    "- [Public Holiday API](https://date.nager.at/Api)\n",
    "- [Open-Meteo Historical Weather API](https://open-meteo.com/)"
   ]
  },
  {
   "cell_type": "markdown",
   "metadata": {},
   "source": [
    "1. **Quantos feriados há no Brasil em todo o ano de 2024?**"
   ]
  },
  {
   "cell_type": "code",
   "execution_count": 3,
   "metadata": {},
   "outputs": [],
   "source": [
    "import requests"
   ]
  },
  {
   "cell_type": "code",
   "execution_count": 6,
   "metadata": {},
   "outputs": [],
   "source": [
    "class HollidayApi:\n",
    "    URL = 'https://date.nager.at'\n",
    "\n",
    "    @classmethod\n",
    "    def available_countries(cls) -> list[dict[str, str]]:\n",
    "        response = requests.get(f'{cls.URL}/api/v3/AvailableCountries')\n",
    "        return response.json()\n",
    "    \n",
    "    @classmethod\n",
    "    def public_hollidays(cls, year: int, country_code: str):\n",
    "        response = requests.get(\n",
    "            f'{cls.URL}/api/v3/PublicHolidays/{year}/{country_code}'\n",
    "        )\n",
    "        return response.json()"
   ]
  },
  {
   "cell_type": "code",
   "execution_count": 8,
   "metadata": {},
   "outputs": [
    {
     "data": {
      "text/plain": [
       "14"
      ]
     },
     "execution_count": 8,
     "metadata": {},
     "output_type": "execute_result"
    }
   ],
   "source": [
    "countries = HollidayApi.available_countries()\n",
    "brazil_code = next(\n",
    "    (country[\"countryCode\"] for country in countries if country[\"name\"] == \"Brazil\"),\n",
    "    None,\n",
    ")\n",
    "hollidays = HollidayApi.public_hollidays(year=2024, country_code=brazil_code)\n",
    "len(hollidays)"
   ]
  },
  {
   "cell_type": "markdown",
   "metadata": {},
   "source": [
    "__Resposta:__ Há 14 feriados no Brasil no ano de 2024. "
   ]
  },
  {
   "cell_type": "markdown",
   "metadata": {},
   "source": [
    "2. **Qual mês de 2024 tem o maior número de feriados?**"
   ]
  },
  {
   "cell_type": "code",
   "execution_count": 20,
   "metadata": {},
   "outputs": [],
   "source": [
    "from datetime import date\n",
    "\n",
    "from babel.dates import format_date"
   ]
  },
  {
   "cell_type": "code",
   "execution_count": 28,
   "metadata": {},
   "outputs": [
    {
     "name": "stdout",
     "output_type": "stream",
     "text": [
      "fevereiro\n",
      "março\n",
      "maio\n",
      "novembro\n"
     ]
    }
   ],
   "source": [
    "hollidays_per_month = {}\n",
    "for holliday in hollidays:\n",
    "    month = format_date(date.fromisoformat(holliday[\"date\"]), \"MMMM\")\n",
    "    hollidays_per_month[month] = hollidays_per_month.get(month, 0) + 1\n",
    "max_hollidays = max(hollidays_per_month.values())\n",
    "max_months = [\n",
    "    month\n",
    "    for month, hollidays_count in hollidays_per_month.items()\n",
    "    if hollidays_count == max_hollidays\n",
    "]\n",
    "print(*max_months, sep=\"\\n\")"
   ]
  },
  {
   "cell_type": "markdown",
   "metadata": {},
   "source": [
    "__Resposta:__ Os meses de Fevereiro, Março, Maio e Novembro tem 2 feriados cada um, sendo o maior número de feriados em algum mês em 2024."
   ]
  },
  {
   "cell_type": "markdown",
   "metadata": {},
   "source": [
    "3. **Quantos feriados em 2024 caem em dias de semana (segunda a sexta-feira)?**"
   ]
  },
  {
   "cell_type": "code",
   "execution_count": 29,
   "metadata": {},
   "outputs": [
    {
     "data": {
      "text/plain": [
       "9"
      ]
     },
     "execution_count": 29,
     "metadata": {},
     "output_type": "execute_result"
    }
   ],
   "source": [
    "sum(\n",
    "    1\n",
    "    for holliday in hollidays\n",
    "    if date.fromisoformat(holliday[\"date\"]).weekday() < 5 # sáb = 5, dom = 6\n",
    ")"
   ]
  },
  {
   "cell_type": "markdown",
   "metadata": {},
   "source": [
    "__Resposta:__ Em 2024, 9 feriados caem em dias de semana."
   ]
  },
  {
   "cell_type": "markdown",
   "metadata": {},
   "source": [
    "4. **Qual foi a temperatura média em cada mês?**  \n",
    "   Utilize a Open-Meteo Historical Weather API para obter as temperaturas médias diárias no Rio de Janeiro de 01/01/2024 a 01/08/2024."
   ]
  },
  {
   "cell_type": "code",
   "execution_count": null,
   "metadata": {},
   "outputs": [],
   "source": []
  },
  {
   "cell_type": "markdown",
   "metadata": {},
   "source": [
    "5. **Qual foi o tempo predominante em cada mês nesse período?**  \n",
    "   Utilize como referência para o código de tempo (_weather_code_) o seguinte link: [WMO Code](https://gist.github.com/stellasphere/9490c195ed2b53c707087c8c2db4ec0c)."
   ]
  },
  {
   "cell_type": "code",
   "execution_count": null,
   "metadata": {},
   "outputs": [],
   "source": []
  },
  {
   "cell_type": "markdown",
   "metadata": {},
   "source": [
    "6. **Qual foi o tempo e a temperatura média em cada feriado de 01/01/2024 a 01/08/2024?**"
   ]
  },
  {
   "cell_type": "code",
   "execution_count": null,
   "metadata": {},
   "outputs": [],
   "source": []
  },
  {
   "cell_type": "markdown",
   "metadata": {},
   "source": [
    "7. **Considere as seguintes suposições:**\n",
    "   - O cidadão carioca considera \"frio\" um dia cuja temperatura média é menor que 20ºC;\n",
    "   - Um feriado bem aproveitado no Rio de Janeiro é aquele em que se pode ir à praia;\n",
    "   - O cidadão carioca só vai à praia quando não está com frio;\n",
    "   - O cidadão carioca também só vai à praia em dias com sol, evitando dias **totalmente** nublados ou chuvosos (considere _weather_code_ para determinar as condições climáticas).\n",
    "\n",
    "   Houve algum feriado \"não aproveitável\" em 2024? Se sim, qual(is)?"
   ]
  },
  {
   "cell_type": "code",
   "execution_count": null,
   "metadata": {},
   "outputs": [],
   "source": []
  },
  {
   "cell_type": "markdown",
   "metadata": {},
   "source": [
    "8. **Qual foi o feriado \"mais aproveitável\" de 2024?**  \n",
    "   Considere o melhor par tempo e temperatura."
   ]
  },
  {
   "cell_type": "code",
   "execution_count": null,
   "metadata": {},
   "outputs": [],
   "source": []
  }
 ],
 "metadata": {
  "kernelspec": {
   "display_name": ".venv",
   "language": "python",
   "name": "python3"
  },
  "language_info": {
   "codemirror_mode": {
    "name": "ipython",
    "version": 3
   },
   "file_extension": ".py",
   "mimetype": "text/x-python",
   "name": "python",
   "nbconvert_exporter": "python",
   "pygments_lexer": "ipython3",
   "version": "3.12.4"
  }
 },
 "nbformat": 4,
 "nbformat_minor": 2
}
