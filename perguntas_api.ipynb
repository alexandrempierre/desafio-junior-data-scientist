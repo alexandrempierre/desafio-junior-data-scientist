{
 "cells": [
  {
   "cell_type": "markdown",
   "metadata": {},
   "source": [
    "## Integração com APIs: Feriados e Tempo\n",
    "\n",
    "### Utilize as APIs públicas abaixo para responder às questões 1-8:\n",
    "- [Public Holiday API](https://date.nager.at/Api)\n",
    "- [Open-Meteo Historical Weather API](https://open-meteo.com/)"
   ]
  },
  {
   "cell_type": "markdown",
   "metadata": {},
   "source": [
    "1. **Quantos feriados há no Brasil em todo o ano de 2024?**"
   ]
  },
  {
   "cell_type": "code",
   "execution_count": 1,
   "metadata": {},
   "outputs": [],
   "source": [
    "import requests"
   ]
  },
  {
   "cell_type": "code",
   "execution_count": 2,
   "metadata": {},
   "outputs": [],
   "source": [
    "class HollidayApi:\n",
    "    URL = 'https://date.nager.at'\n",
    "\n",
    "    @classmethod\n",
    "    def available_countries(cls) -> list[dict[str, str]]:\n",
    "        response = requests.get(f'{cls.URL}/api/v3/AvailableCountries')\n",
    "        return response.json()\n",
    "    \n",
    "    @classmethod\n",
    "    def public_hollidays(cls, year: int, country_code: str):\n",
    "        response = requests.get(\n",
    "            f'{cls.URL}/api/v3/PublicHolidays/{year}/{country_code}'\n",
    "        )\n",
    "        return response.json()"
   ]
  },
  {
   "cell_type": "code",
   "execution_count": 3,
   "metadata": {},
   "outputs": [
    {
     "data": {
      "text/plain": [
       "14"
      ]
     },
     "execution_count": 3,
     "metadata": {},
     "output_type": "execute_result"
    }
   ],
   "source": [
    "countries = HollidayApi.available_countries()\n",
    "brazil_code = next(\n",
    "    (country[\"countryCode\"] for country in countries if country[\"name\"] == \"Brazil\"),\n",
    "    None,\n",
    ")\n",
    "hollidays = HollidayApi.public_hollidays(year=2024, country_code=brazil_code)\n",
    "len(hollidays)"
   ]
  },
  {
   "cell_type": "markdown",
   "metadata": {},
   "source": [
    "__Resposta:__ Há 14 feriados no Brasil no ano de 2024. "
   ]
  },
  {
   "cell_type": "markdown",
   "metadata": {},
   "source": [
    "2. **Qual mês de 2024 tem o maior número de feriados?**"
   ]
  },
  {
   "cell_type": "code",
   "execution_count": 4,
   "metadata": {},
   "outputs": [],
   "source": [
    "from datetime import date\n",
    "\n",
    "from babel.dates import format_date"
   ]
  },
  {
   "cell_type": "code",
   "execution_count": 5,
   "metadata": {},
   "outputs": [
    {
     "name": "stdout",
     "output_type": "stream",
     "text": [
      "fevereiro\n",
      "março\n",
      "maio\n",
      "novembro\n"
     ]
    }
   ],
   "source": [
    "hollidays_per_month = {}\n",
    "for holliday in hollidays:\n",
    "    month = format_date(date.fromisoformat(holliday[\"date\"]), \"MMMM\")\n",
    "    hollidays_per_month[month] = hollidays_per_month.get(month, 0) + 1\n",
    "max_hollidays = max(hollidays_per_month.values())\n",
    "max_months = [\n",
    "    month\n",
    "    for month, hollidays_count in hollidays_per_month.items()\n",
    "    if hollidays_count == max_hollidays\n",
    "]\n",
    "print(*max_months, sep=\"\\n\")"
   ]
  },
  {
   "cell_type": "markdown",
   "metadata": {},
   "source": [
    "__Resposta:__ Os meses de Fevereiro, Março, Maio e Novembro tem 2 feriados cada um, sendo o maior número de feriados em algum mês em 2024."
   ]
  },
  {
   "cell_type": "markdown",
   "metadata": {},
   "source": [
    "3. **Quantos feriados em 2024 caem em dias de semana (segunda a sexta-feira)?**"
   ]
  },
  {
   "cell_type": "code",
   "execution_count": 6,
   "metadata": {},
   "outputs": [
    {
     "data": {
      "text/plain": [
       "9"
      ]
     },
     "execution_count": 6,
     "metadata": {},
     "output_type": "execute_result"
    }
   ],
   "source": [
    "sum(\n",
    "    1\n",
    "    for holliday in hollidays\n",
    "    if date.fromisoformat(holliday[\"date\"]).weekday() < 5 # sáb = 5, dom = 6\n",
    ")"
   ]
  },
  {
   "cell_type": "markdown",
   "metadata": {},
   "source": [
    "__Resposta:__ Em 2024, 9 feriados caem em dias de semana."
   ]
  },
  {
   "cell_type": "markdown",
   "metadata": {},
   "source": [
    "4. **Qual foi a temperatura média em cada mês?**  \n",
    "   Utilize a Open-Meteo Historical Weather API para obter as temperaturas médias diárias no Rio de Janeiro de 01/01/2024 a 01/08/2024."
   ]
  },
  {
   "cell_type": "code",
   "execution_count": 7,
   "metadata": {},
   "outputs": [],
   "source": [
    "from collections import OrderedDict\n",
    "from urllib.parse import quote"
   ]
  },
  {
   "cell_type": "code",
   "execution_count": 8,
   "metadata": {},
   "outputs": [],
   "source": [
    "class OpenMeteoApi:\n",
    "    URL = \"https://archive-api.open-meteo.com/v1/archive\"\n",
    "\n",
    "    @classmethod\n",
    "    def historical_temperature_and_weather(\n",
    "        cls,\n",
    "        latitude: float = -22.9064,\n",
    "        longitude: float = -43.1822,\n",
    "        start_date: date = date(2024, 1, 1),\n",
    "        end_date: date = date(2024, 8, 1),\n",
    "        timezone: str = \"America/Sao_Paulo\",\n",
    "    ) -> dict[str, float | int | str | dict[str, str | list[str | int | float]]]:\n",
    "        params = OrderedDict(\n",
    "            [\n",
    "                (\"latitude\", latitude),\n",
    "                (\"longitude\", longitude),\n",
    "                (\"start_date\", start_date.strftime(r\"%Y-%m-%d\")),\n",
    "                (\"end_date\", end_date.strftime(r\"%Y-%m-%d\")),\n",
    "                (\"daily\", \"weather_code,temperature_2m_mean\"),\n",
    "                (\"timezone\", quote(timezone)),\n",
    "            ]\n",
    "        )\n",
    "        query_str = \"&\".join(f\"{key}={value}\" for key, value in params.items())\n",
    "        response = requests.get(f\"{cls.URL}?{query_str}\")\n",
    "        return response.json()\n",
    "\n",
    "    @classmethod\n",
    "    def weather_codes(cls) -> dict[str, dict[str, dict[str, str]]]:\n",
    "        url_weather_codes = \"https://gist.githubusercontent.com/stellasphere/9490c195ed2b53c707087c8c2db4ec0c/raw/76b0cb0ef0bfd8a2ec988aa54e30ecd1b483495d/descriptions.json\"\n",
    "        response = requests.get(url_weather_codes)\n",
    "        return response.json()\n"
   ]
  },
  {
   "cell_type": "code",
   "execution_count": 9,
   "metadata": {},
   "outputs": [
    {
     "name": "stdout",
     "output_type": "stream",
     "text": [
      "|janeiro|26.7|\n",
      "|fevereiro|27.2|\n",
      "|março|26.4|\n",
      "|abril|25.2|\n",
      "|maio|25.0|\n",
      "|junho|22.6|\n",
      "|julho|21.1|\n",
      "|agosto|21.2|\n"
     ]
    }
   ],
   "source": [
    "response_json = OpenMeteoApi.historical_temperature_and_weather()\n",
    "daily = response_json[\"daily\"]\n",
    "dates = list(map(lambda d_str: date.fromisoformat(d_str), daily[\"time\"]))\n",
    "temperatures = daily[\"temperature_2m_mean\"]\n",
    "month_tempsum = {}\n",
    "for day, temp in zip(dates, temperatures):\n",
    "    month = format_date(day, \"MMMM\", locale=\"pt_BR\")\n",
    "    month_tempsum[month] = {\n",
    "        \"sum\": month_tempsum.get(month, {}).get(\"sum\", 0) + temp,\n",
    "        \"count\": month_tempsum.get(month, {}).get(\"count\", 0) + 1,\n",
    "    }\n",
    "month_tempmean = {m: ts[\"sum\"] / ts[\"count\"] for m, ts in month_tempsum.items()}\n",
    "for month, tempmean in month_tempmean.items():\n",
    "    print(f\"|{month}|{tempmean:.1f}|\")\n"
   ]
  },
  {
   "cell_type": "markdown",
   "metadata": {},
   "source": [
    "Abaixo as médias para cada mês:\n",
    "\n",
    "|Mês|Temperatura Média|\n",
    "|---|---|\n",
    "|janeiro|26.7|\n",
    "|fevereiro|27.2|\n",
    "|março|26.4|\n",
    "|abril|25.2|\n",
    "|maio|25.0|\n",
    "|junho|22.6|\n",
    "|julho|21.1|"
   ]
  },
  {
   "cell_type": "markdown",
   "metadata": {},
   "source": [
    "5. **Qual foi o tempo predominante em cada mês nesse período?**  \n",
    "   Utilize como referência para o código de tempo (_weather_code_) o seguinte link: [WMO Code](https://gist.github.com/stellasphere/9490c195ed2b53c707087c8c2db4ec0c)."
   ]
  },
  {
   "cell_type": "code",
   "execution_count": 10,
   "metadata": {},
   "outputs": [],
   "source": [
    "WEATHER_TRANSLATION_KEY = {\n",
    "    # fonte: http://www.sistema-alerta-rio.com.br/previsao-do-tempo/termosmet/\n",
    "    # fonte: https://www.weather.gov/otx/Full_Weather_Glossary\n",
    "    # precisei adicionar os termos para chuvisco\n",
    "    \"Light Drizzle\": \"Chuvisco leve\",\n",
    "    \"Cloudy\": \"Céu Encoberto\", #\n",
    "    \"Mainly Sunny\": \"Céu parcialmente nublado\",\n",
    "    \"Mainly Clear\": \"Céu parcialmente nublado\",\n",
    "    \"Rain\": \"Chuva moderada\", # escolha baseada nos patamares de chuva disponíveis na API\n",
    "    \"Sunny\": \"Céu claro\",\n",
    "    \"Clear\": \"Céu claro\",\n",
    "    \"Drizzle\": \"Chuvisco\", # escolha baseada nos patamares de chuva disponíveis na API\n",
    "    \"Partly Cloudy\": \"Céu nublado\",\n",
    "    \"Light Rain\": \"Chuva fraca\",\n",
    "    # \"\": \"\",\n",
    "}"
   ]
  },
  {
   "cell_type": "code",
   "execution_count": 11,
   "metadata": {},
   "outputs": [
    {
     "name": "stdout",
     "output_type": "stream",
     "text": [
      "|janeiro|Chuva moderada|Chuva moderada|10|\n",
      "|fevereiro|Chuvisco leve|Chuvisco leve|13|\n",
      "|março|Chuvisco leve|Chuvisco leve|9|\n",
      "|abril|Céu Encoberto|Céu Encoberto|7|\n",
      "|maio|Chuvisco leve|Chuvisco leve|10|\n",
      "|junho|Céu parcialmente nublado|Céu parcialmente nublado|12|\n",
      "|julho|Céu Encoberto|Céu Encoberto|8|\n",
      "|julho|Chuvisco leve|Chuvisco leve|8|\n"
     ]
    }
   ],
   "source": [
    "weather_dict = OpenMeteoApi.weather_codes()\n",
    "weathers = daily[\"weather_code\"]\n",
    "month_weatherfreq = {}\n",
    "for day, weather in zip(dates[:-1], weathers):\n",
    "    month = format_date(day, \"MMMM\", locale=\"pt_BR\")\n",
    "    month_weatherfreq[month] = month_weatherfreq.get(month, {})\n",
    "    month_weatherfreq[month][weather] = month_weatherfreq[month].get(weather, 0) + 1\n",
    "month_weather = {}\n",
    "for month, weather_freq in month_weatherfreq.items():\n",
    "    max_freq = max(weather_freq.values())\n",
    "    weather_codes = [\n",
    "        weather_dict[str(weather)]\n",
    "        for weather, freq in weather_freq.items()\n",
    "        if freq == max_freq\n",
    "    ]\n",
    "    month_weather[month] = {\"days_count\": max_freq, \"weather_codes\": weather_codes}\n",
    "for month, count_weathers in month_weather.items():\n",
    "    days_count = count_weathers[\"days_count\"]\n",
    "    weather_codes = count_weathers[\"weather_codes\"]\n",
    "    for weather in weather_codes:\n",
    "        day = WEATHER_TRANSLATION_KEY.get(\n",
    "            weather[\"day\"][\"description\"], weather[\"day\"][\"description\"]\n",
    "        )\n",
    "        night = WEATHER_TRANSLATION_KEY.get(\n",
    "            weather[\"night\"][\"description\"], weather[\"night\"][\"description\"]\n",
    "        )\n",
    "        print(f\"|{month}|{day}|{night}|{days_count}|\")"
   ]
  },
  {
   "cell_type": "markdown",
   "metadata": {},
   "source": [
    "Tempo predominante em cada mês e a duração:\n",
    "\n",
    "|Mês|Tempo de Dia|Tempo de Noite|Duração (em dias)|\n",
    "|---|---|---|---|\n",
    "|janeiro|Chuva moderada|Chuva moderada|10|\n",
    "|fevereiro|Chuvisco leve|Chuvisco leve|13|\n",
    "|março|Chuvisco leve|Chuvisco leve|9|\n",
    "|abril|Céu Encoberto|Céu Encoberto|7|\n",
    "|maio|Chuvisco leve|Chuvisco leve|10|\n",
    "|junho|Céu parcialmente nublado|Céu parcialmente nublado|12|\n",
    "|julho|Céu Encoberto|Céu Encoberto|8|\n",
    "|julho|Chuvisco leve|Chuvisco leve|8|\n",
    "\n",
    "\n",
    "Quando houver \"empate\" no tempo mais frequente, todos os tempos são exibidos com a duração."
   ]
  },
  {
   "cell_type": "markdown",
   "metadata": {},
   "source": [
    "6. **Qual foi o tempo e a temperatura média em cada feriado de 01/01/2024 a 01/08/2024?**"
   ]
  },
  {
   "cell_type": "code",
   "execution_count": 12,
   "metadata": {},
   "outputs": [
    {
     "name": "stdout",
     "output_type": "stream",
     "text": [
      "|01/01/2024|Confraternização Universal|24.9|Chuvisco leve|Chuvisco leve|\n",
      "|12/02/2024|Carnaval|30.2|Céu parcialmente nublado|Céu parcialmente nublado|\n",
      "|13/02/2024|Carnaval|30.5|Chuvisco leve|Chuvisco leve|\n",
      "|29/03/2024|Sexta-feira Santa|25.0|Chuva fraca|Chuva fraca|\n",
      "|31/03/2024|Domingo de Páscoa|24.5|Chuvisco|Chuvisco|\n",
      "|21/04/2024|Dia de Tiradentes|23.1|Céu nublado|Céu nublado|\n",
      "|01/05/2024|Dia do Trabalhador|28.1|Céu claro|Céu claro|\n",
      "|30/05/2024|Corpus Christi|20.8|Chuvisco leve|Chuvisco leve|\n",
      "|09/07/2024|Revolução Constitucionalista de 1932|21.5|Chuvisco|Chuvisco|\n"
     ]
    }
   ],
   "source": [
    "daily_weather_temp = dict(zip(dates, zip(temperatures, weathers)))\n",
    "dates_set = set(dates)\n",
    "holliday_info = OrderedDict()\n",
    "for holliday in hollidays:\n",
    "    day = date.fromisoformat(holliday[\"date\"])\n",
    "    if day not in dates_set:\n",
    "        continue\n",
    "    weather_code_dict = weather_dict[str(daily_weather_temp[day][1])]\n",
    "    weather_day = WEATHER_TRANSLATION_KEY.get(\n",
    "        weather_code_dict[\"day\"][\"description\"], weather_code_dict[\"day\"][\"description\"]\n",
    "    )\n",
    "    weather_night = WEATHER_TRANSLATION_KEY.get(\n",
    "        weather_code_dict[\"night\"][\"description\"],\n",
    "        weather_code_dict[\"night\"][\"description\"],\n",
    "    )\n",
    "    holliday_info[day] = {\n",
    "        \"name\": holliday[\"localName\"],\n",
    "        \"temperature\": daily_weather_temp[day][0],\n",
    "        \"day\": weather_day,\n",
    "        \"night\": weather_night,\n",
    "    }\n",
    "for day, info in holliday_info.items():\n",
    "    name = info[\"name\"]\n",
    "    temp = info[\"temperature\"]\n",
    "    weather_day = info[\"day\"]\n",
    "    weather_night = info[\"night\"]\n",
    "    print(f\"|{day:%d/%m/%Y}|{name}|{temp}|{weather_day}|{weather_night}|\")"
   ]
  },
  {
   "cell_type": "markdown",
   "metadata": {},
   "source": [
    "Tempo e temperatura média em cada feriado:\n",
    "\n",
    "|Data|Feriado|Temperatura|Tempo durante o dia|Tempo durante a noite|\n",
    "|---|---|---|---|---|\n",
    "|01/01/2024|Confraternização Universal|24.9|Chuvisco leve|Chuvisco leve|\n",
    "|12/02/2024|Carnaval|30.2|Céu parcialmente nublado|Céu parcialmente nublado|\n",
    "|13/02/2024|Carnaval|30.5|Chuvisco leve|Chuvisco leve|\n",
    "|29/03/2024|Sexta-feira Santa|25.0|Chuva fraca|Chuva fraca|\n",
    "|31/03/2024|Domingo de Páscoa|24.5|Chuvisco|Chuvisco|\n",
    "|21/04/2024|Dia de Tiradentes|23.1|Céu nublado|Céu nublado|\n",
    "|01/05/2024|Dia do Trabalhador|28.1|Céu claro|Céu claro|\n",
    "|30/05/2024|Corpus Christi|20.8|Chuvisco leve|Chuvisco leve|\n",
    "|~~09/07/2024~~|~~Revolução Constitucionalista de 1932~~|~~21.5~~|~~Chuvisco~~|~~Chuvisco~~|\n",
    "\n",
    "Observação: dia 9 de julho não é feriado no Rio de Janeiro."
   ]
  },
  {
   "cell_type": "markdown",
   "metadata": {},
   "source": [
    "7. **Considere as seguintes suposições:**\n",
    "   - O cidadão carioca considera \"frio\" um dia cuja temperatura média é menor que 20ºC;\n",
    "   - Um feriado bem aproveitado no Rio de Janeiro é aquele em que se pode ir à praia;\n",
    "   - O cidadão carioca só vai à praia quando não está com frio;\n",
    "   - O cidadão carioca também só vai à praia em dias com sol, evitando dias **totalmente** nublados ou chuvosos (considere _weather_code_ para determinar as condições climáticas).\n",
    "\n",
    "   Houve algum feriado \"não aproveitável\" em 2024? Se sim, qual(is)?"
   ]
  },
  {
   "cell_type": "code",
   "execution_count": 13,
   "metadata": {},
   "outputs": [],
   "source": [
    "NO_BEACH_WEATHERS = {\n",
    "    \"Chuvisco leve\",\n",
    "    \"Chuvisco\",\n",
    "    \"Chuva fraca\",\n",
    "    \"Chuva moderada\",\n",
    "    \"Céu Encoberto\", \n",
    "    \"Céu nublado\",\n",
    "}"
   ]
  },
  {
   "cell_type": "code",
   "execution_count": 14,
   "metadata": {},
   "outputs": [
    {
     "name": "stdout",
     "output_type": "stream",
     "text": [
      "|01/01/2024|Confraternização Universal|24.9|*Chuvisco leve*|\n",
      "|13/02/2024|Carnaval|30.5|*Chuvisco leve*|\n",
      "|29/03/2024|Sexta-feira Santa|25.0|*Chuva fraca*|\n",
      "|31/03/2024|Domingo de Páscoa|24.5|*Chuvisco*|\n",
      "|21/04/2024|Dia de Tiradentes|23.1|*Céu nublado*|\n",
      "|30/05/2024|Corpus Christi|20.8|*Chuvisco leve*|\n"
     ]
    }
   ],
   "source": [
    "for day, info in holliday_info.items():\n",
    "    if (\n",
    "        info[\"name\"] == \"Revolução Constitucionalista de 1932\"\n",
    "        or info[\"temperature\"] > 20\n",
    "        and info[\"day\"] not in NO_BEACH_WEATHERS\n",
    "        # or info[\"night\"] in NO_BEACH_WEATHERS\n",
    "    ):\n",
    "        continue\n",
    "    name = info[\"name\"]\n",
    "    temp = info[\"temperature\"]\n",
    "    weather_day = info[\"day\"]\n",
    "    # weather_night = info[\"night\"]\n",
    "    print(f\"|{day:%d/%m/%Y}|{name}|{temp}|*{weather_day}*|\")"
   ]
  },
  {
   "cell_type": "markdown",
   "metadata": {},
   "source": [
    "Feriados não aproveitáveis:\n",
    "\n",
    "|Data|Feriado|Temperatura|Tempo durante o dia|\n",
    "|---|---|---|---|\n",
    "|01/01/2024|Confraternização Universal|24.9|*Chuvisco leve*|\n",
    "|13/02/2024|Carnaval|30.5|*Chuvisco leve*|\n",
    "|29/03/2024|Sexta-feira Santa|25.0|*Chuva fraca*|\n",
    "|31/03/2024|Domingo de Páscoa|24.5|*Chuvisco*|\n",
    "|21/04/2024|Dia de Tiradentes|23.1|*Céu nublado*|\n",
    "|30/05/2024|Corpus Christi|20.8|*Chuvisco leve*|\n",
    "\n",
    "**Nota**: em todos a temperatura foi maior que 20ºC, então a fonte de não aproveitamento foi o tempo; usei apenas o dia porque é quando a maior parte das pessoas vai à praia"
   ]
  },
  {
   "cell_type": "markdown",
   "metadata": {},
   "source": [
    "8. **Qual foi o feriado \"mais aproveitável\" de 2024?**  \n",
    "   Considere o melhor par tempo e temperatura."
   ]
  },
  {
   "cell_type": "code",
   "execution_count": 15,
   "metadata": {},
   "outputs": [],
   "source": [
    "BEACH_WEATHERS_SCORE = {\n",
    "    \"Céu nublado\": 1/3,\n",
    "    \"Céu parcialmente nublado\": 2/3,\n",
    "    \"Céu claro\": 1,\n",
    "}"
   ]
  },
  {
   "cell_type": "code",
   "execution_count": 16,
   "metadata": {},
   "outputs": [
    {
     "name": "stdout",
     "output_type": "stream",
     "text": [
      "{'date': datetime.date(2024, 5, 1), 'name': 'Dia do Trabalhador', 'temperature': 28.1, 'day': 'Céu claro', 'score': 0.8521126760563381}\n"
     ]
    }
   ],
   "source": [
    "beach_holliday_info = []\n",
    "for day, info in holliday_info.items():\n",
    "    if (\n",
    "        info[\"name\"] == \"Revolução Constitucionalista de 1932\"\n",
    "        or info[\"temperature\"] < 20\n",
    "        or info[\"day\"] not in BEACH_WEATHERS_SCORE.keys()\n",
    "        # or info[\"night\"] in NO_BEACH_WEATHERS\n",
    "    ):\n",
    "        continue\n",
    "    name = info[\"name\"]\n",
    "    temp = info[\"temperature\"]\n",
    "    weather_day = info[\"day\"]\n",
    "    beach_holliday_info.append(\n",
    "        {\"date\": day, \"name\": name, \"temperature\": temp, \"day\": weather_day}\n",
    "    )\n",
    "t1 = max(h[\"temperature\"] for h in beach_holliday_info)\n",
    "t0 = min(h[\"temperature\"] for h in beach_holliday_info)\n",
    "for idx, holliday_info in enumerate(beach_holliday_info):\n",
    "    t = beach_holliday_info[idx][\"temperature\"]\n",
    "    score_t = (t - t0) / (t1 - t0)\n",
    "    score_w = BEACH_WEATHERS_SCORE[holliday_info[\"day\"]]\n",
    "    beach_holliday_info[idx][\"score\"] = (score_t + score_w) / 2\n",
    "best_holliday = max(beach_holliday_info, key=lambda h: h[\"score\"])\n",
    "print(best_holliday, sep=\"\\n\")"
   ]
  },
  {
   "cell_type": "markdown",
   "metadata": {},
   "source": [
    "O feriado mais aproveitável de 2024 foi o dia do trabalhador (01/05/2024) que teve o melhor equilíbrio entre tempo e temperatura. Num critério alternativo, o dia do trabalhador foi o único feriado totalmente ensolarado, portanto o melhor também assim."
   ]
  }
 ],
 "metadata": {
  "kernelspec": {
   "display_name": ".venv",
   "language": "python",
   "name": "python3"
  },
  "language_info": {
   "codemirror_mode": {
    "name": "ipython",
    "version": 3
   },
   "file_extension": ".py",
   "mimetype": "text/x-python",
   "name": "python",
   "nbconvert_exporter": "python",
   "pygments_lexer": "ipython3",
   "version": "3.12.4"
  }
 },
 "nbformat": 4,
 "nbformat_minor": 2
}
