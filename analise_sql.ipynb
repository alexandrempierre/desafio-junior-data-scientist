{
 "cells": [
  {
   "cell_type": "code",
   "execution_count": 1,
   "metadata": {},
   "outputs": [],
   "source": [
    "from datetime import datetime\n",
    "import numpy as np\n",
    "import pandas as pd\n",
    "import dados"
   ]
  },
  {
   "cell_type": "markdown",
   "metadata": {},
   "source": [
    "## Localização de chamados do 1746\n",
    "#### Utilize a tabela de Chamados do 1746 e a tabela de Bairros do Rio de Janeiro para as perguntas de 1-5.\n",
    "\n",
    "1. Quantos chamados foram abertos no dia 01/04/2023?\n",
    "\n",
    "Resposta: No dia 01/04/2023 foram abertos 1756 chamados."
   ]
  },
  {
   "cell_type": "code",
   "execution_count": 2,
   "metadata": {},
   "outputs": [],
   "source": [
    "df_chamado_1746 = dados.chamado_1746()"
   ]
  },
  {
   "cell_type": "code",
   "execution_count": 3,
   "metadata": {},
   "outputs": [
    {
     "data": {
      "text/plain": [
       "1756"
      ]
     },
     "execution_count": 3,
     "metadata": {},
     "output_type": "execute_result"
    }
   ],
   "source": [
    "df_chamado_1o_de_abril = df_chamado_1746[\n",
    "    (datetime(2023, 4, 1) <= df_chamado_1746[\"data_inicio\"])\n",
    "    & (df_chamado_1746[\"data_inicio\"] < datetime(2023, 4, 2))\n",
    "]\n",
    "df_chamado_1o_de_abril[\"id_chamado\"].count()"
   ]
  },
  {
   "cell_type": "markdown",
   "metadata": {},
   "source": [
    "2. Qual o tipo de chamado que teve mais teve chamados abertos no dia 01/04/2023?\n",
    "\n",
    "Resposta: no dia 01/04/2023 o tipo que teve mais chamados abertos foi \"Estacionamento irregular\"."
   ]
  },
  {
   "cell_type": "code",
   "execution_count": 4,
   "metadata": {},
   "outputs": [
    {
     "data": {
      "text/plain": [
       "id_tipo  tipo                    \n",
       "782      Estacionamento irregular    366\n",
       "dtype: int64"
      ]
     },
     "execution_count": 4,
     "metadata": {},
     "output_type": "execute_result"
    }
   ],
   "source": [
    "df_chamado_1o_de_abril[[\"id_tipo\", \"tipo\"]].value_counts().sort_values(\n",
    "    ascending=False\n",
    ").head(1)"
   ]
  },
  {
   "cell_type": "markdown",
   "metadata": {},
   "source": [
    "3. Quais os nomes dos 3 bairros que mais tiveram chamados abertos nesse dia?\n",
    "\n",
    "Resposta: Campo Grande com 113 chamados, Tijuca com 89 e Barra da Tijuca com 59."
   ]
  },
  {
   "cell_type": "code",
   "execution_count": 5,
   "metadata": {},
   "outputs": [],
   "source": [
    "df_bairro = dados.bairro()"
   ]
  },
  {
   "cell_type": "code",
   "execution_count": 6,
   "metadata": {},
   "outputs": [
    {
     "data": {
      "text/html": [
       "<div>\n",
       "<style scoped>\n",
       "    .dataframe tbody tr th:only-of-type {\n",
       "        vertical-align: middle;\n",
       "    }\n",
       "\n",
       "    .dataframe tbody tr th {\n",
       "        vertical-align: top;\n",
       "    }\n",
       "\n",
       "    .dataframe thead th {\n",
       "        text-align: right;\n",
       "    }\n",
       "</style>\n",
       "<table border=\"1\" class=\"dataframe\">\n",
       "  <thead>\n",
       "    <tr style=\"text-align: right;\">\n",
       "      <th></th>\n",
       "      <th>count</th>\n",
       "      <th>nome</th>\n",
       "    </tr>\n",
       "    <tr>\n",
       "      <th>id_bairro</th>\n",
       "      <th></th>\n",
       "      <th></th>\n",
       "    </tr>\n",
       "  </thead>\n",
       "  <tbody>\n",
       "    <tr>\n",
       "      <th>144</th>\n",
       "      <td>113</td>\n",
       "      <td>Campo Grande</td>\n",
       "    </tr>\n",
       "    <tr>\n",
       "      <th>33</th>\n",
       "      <td>89</td>\n",
       "      <td>Tijuca</td>\n",
       "    </tr>\n",
       "    <tr>\n",
       "      <th>128</th>\n",
       "      <td>59</td>\n",
       "      <td>Barra da Tijuca</td>\n",
       "    </tr>\n",
       "  </tbody>\n",
       "</table>\n",
       "</div>"
      ],
      "text/plain": [
       "           count             nome\n",
       "id_bairro                        \n",
       "144          113     Campo Grande\n",
       "33            89           Tijuca\n",
       "128           59  Barra da Tijuca"
      ]
     },
     "execution_count": 6,
     "metadata": {},
     "output_type": "execute_result"
    }
   ],
   "source": [
    "df_top_reclamacoes = pd.DataFrame(\n",
    "    df_chamado_1o_de_abril[[\"id_bairro\"]].value_counts(), columns=[\"count\"]\n",
    ")\n",
    "pd.merge(\n",
    "    df_top_reclamacoes,\n",
    "    df_bairro[[\"id_bairro\", \"nome\"]].set_index(\"id_bairro\"),\n",
    "    on=[\"id_bairro\"],\n",
    ").head(3)"
   ]
  },
  {
   "cell_type": "markdown",
   "metadata": {},
   "source": [
    "4. Qual o nome da subprefeitura com mais chamados abertos nesse dia?\n",
    "\n",
    "Resposta: Zona Norte com 510 chamados."
   ]
  },
  {
   "cell_type": "code",
   "execution_count": 7,
   "metadata": {},
   "outputs": [
    {
     "data": {
      "text/html": [
       "<div>\n",
       "<style scoped>\n",
       "    .dataframe tbody tr th:only-of-type {\n",
       "        vertical-align: middle;\n",
       "    }\n",
       "\n",
       "    .dataframe tbody tr th {\n",
       "        vertical-align: top;\n",
       "    }\n",
       "\n",
       "    .dataframe thead th {\n",
       "        text-align: right;\n",
       "    }\n",
       "</style>\n",
       "<table border=\"1\" class=\"dataframe\">\n",
       "  <thead>\n",
       "    <tr style=\"text-align: right;\">\n",
       "      <th></th>\n",
       "      <th>count</th>\n",
       "    </tr>\n",
       "    <tr>\n",
       "      <th>subprefeitura</th>\n",
       "      <th></th>\n",
       "    </tr>\n",
       "  </thead>\n",
       "  <tbody>\n",
       "    <tr>\n",
       "      <th>Zona Norte</th>\n",
       "      <td>510</td>\n",
       "    </tr>\n",
       "  </tbody>\n",
       "</table>\n",
       "</div>"
      ],
      "text/plain": [
       "               count\n",
       "subprefeitura       \n",
       "Zona Norte       510"
      ]
     },
     "execution_count": 7,
     "metadata": {},
     "output_type": "execute_result"
    }
   ],
   "source": [
    "pd.merge(\n",
    "    df_top_reclamacoes,\n",
    "    df_bairro[[\"id_bairro\", \"subprefeitura\"]],\n",
    "    on=[\"id_bairro\"]\n",
    ").groupby([\"subprefeitura\"]).sum().sort_values(by=[\"count\"], ascending=False).head(1)"
   ]
  },
  {
   "cell_type": "markdown",
   "metadata": {},
   "source": [
    "5. Existe algum chamado aberto nesse dia que não foi associado a um bairro ou subprefeitura na tabela de bairros? Se sim, por que isso acontece?\n",
    "\n",
    "Resposta: Existem vários, todos estão associados a transporte/mobilidade ou atendimento por canais eletrônicos."
   ]
  },
  {
   "cell_type": "code",
   "execution_count": 8,
   "metadata": {},
   "outputs": [
    {
     "data": {
      "text/html": [
       "<div>\n",
       "<style scoped>\n",
       "    .dataframe tbody tr th:only-of-type {\n",
       "        vertical-align: middle;\n",
       "    }\n",
       "\n",
       "    .dataframe tbody tr th {\n",
       "        vertical-align: top;\n",
       "    }\n",
       "\n",
       "    .dataframe thead th {\n",
       "        text-align: right;\n",
       "    }\n",
       "</style>\n",
       "<table border=\"1\" class=\"dataframe\">\n",
       "  <thead>\n",
       "    <tr style=\"text-align: right;\">\n",
       "      <th></th>\n",
       "      <th>tipo</th>\n",
       "      <th>subtipo</th>\n",
       "    </tr>\n",
       "  </thead>\n",
       "  <tbody>\n",
       "    <tr>\n",
       "      <th>70</th>\n",
       "      <td>Ônibus</td>\n",
       "      <td>Verificação de ar condicionado inoperante no ô...</td>\n",
       "    </tr>\n",
       "    <tr>\n",
       "      <th>247</th>\n",
       "      <td>Atendimento ao cidadão</td>\n",
       "      <td>Solicitação de correção de falhas e de cadastr...</td>\n",
       "    </tr>\n",
       "    <tr>\n",
       "      <th>427</th>\n",
       "      <td>BRT (corredor expresso de ônibus)</td>\n",
       "      <td>Verificação do serviço BRT - Transolímpica</td>\n",
       "    </tr>\n",
       "    <tr>\n",
       "      <th>436</th>\n",
       "      <td>Alvará</td>\n",
       "      <td>Solicitação de orientações sobre o alvará pela...</td>\n",
       "    </tr>\n",
       "    <tr>\n",
       "      <th>632</th>\n",
       "      <td>Ônibus</td>\n",
       "      <td>Fiscalização de irregularidades em linha de ôn...</td>\n",
       "    </tr>\n",
       "    <tr>\n",
       "      <th>842</th>\n",
       "      <td>Atendimento ao cidadão</td>\n",
       "      <td>Solicitação da gravação do atendimento 1746</td>\n",
       "    </tr>\n",
       "    <tr>\n",
       "      <th>1393</th>\n",
       "      <td>Estacionamento irregular</td>\n",
       "      <td>Fiscalização de estacionamento irregular de ve...</td>\n",
       "    </tr>\n",
       "    <tr>\n",
       "      <th>1453</th>\n",
       "      <td>Transporte Especial Complementar - TEC</td>\n",
       "      <td>Fiscalização do transporte complementar</td>\n",
       "    </tr>\n",
       "    <tr>\n",
       "      <th>1736</th>\n",
       "      <td>Defesa do Consumidor</td>\n",
       "      <td>Verificação de problemas com produtos ou servi...</td>\n",
       "    </tr>\n",
       "  </tbody>\n",
       "</table>\n",
       "</div>"
      ],
      "text/plain": [
       "                                        tipo  \\\n",
       "70                                    Ônibus   \n",
       "247                   Atendimento ao cidadão   \n",
       "427        BRT (corredor expresso de ônibus)   \n",
       "436                                   Alvará   \n",
       "632                                   Ônibus   \n",
       "842                   Atendimento ao cidadão   \n",
       "1393                Estacionamento irregular   \n",
       "1453  Transporte Especial Complementar - TEC   \n",
       "1736                    Defesa do Consumidor   \n",
       "\n",
       "                                                subtipo  \n",
       "70    Verificação de ar condicionado inoperante no ô...  \n",
       "247   Solicitação de correção de falhas e de cadastr...  \n",
       "427          Verificação do serviço BRT - Transolímpica  \n",
       "436   Solicitação de orientações sobre o alvará pela...  \n",
       "632   Fiscalização de irregularidades em linha de ôn...  \n",
       "842         Solicitação da gravação do atendimento 1746  \n",
       "1393  Fiscalização de estacionamento irregular de ve...  \n",
       "1453            Fiscalização do transporte complementar  \n",
       "1736  Verificação de problemas com produtos ou servi...  "
      ]
     },
     "execution_count": 8,
     "metadata": {},
     "output_type": "execute_result"
    }
   ],
   "source": [
    "df_chamado_bairro = pd.merge(\n",
    "    df_chamado_1o_de_abril[[\"id_bairro\", \"tipo\", \"subtipo\"]],\n",
    "    df_bairro[[\"id_bairro\", \"nome\", \"subprefeitura\"]].set_index(\"id_bairro\"),\n",
    "    on=[\"id_bairro\"],\n",
    "    how=\"left\",\n",
    ")\n",
    "df_chamado_bairro[df_chamado_bairro[\"nome\"].isnull()][\n",
    "    [\"tipo\", \"subtipo\"]\n",
    "].drop_duplicates()"
   ]
  },
  {
   "cell_type": "markdown",
   "metadata": {},
   "source": [
    "## Chamados do 1746 em grandes eventos\n",
    "#### Utilize a tabela de Chamados do 1746 e a tabela de Ocupação Hoteleira em Grandes Eventos no Rio para as perguntas de 6-10. Para todas as perguntas considere o subtipo de chamado \"Perturbação do sossego\".\n",
    "\n",
    "6. Quantos chamados com o subtipo \"Perturbação do sossego\" foram abertos desde 01/01/2022 até 31/12/2023 (incluindo extremidades)?"
   ]
  },
  {
   "cell_type": "code",
   "execution_count": null,
   "metadata": {},
   "outputs": [],
   "source": []
  },
  {
   "cell_type": "markdown",
   "metadata": {},
   "source": [
    "7. Selecione os chamados com esse subtipo que foram abertos durante os eventos contidos na tabela de eventos (Reveillon, Carnaval e Rock in Rio)."
   ]
  },
  {
   "cell_type": "code",
   "execution_count": null,
   "metadata": {},
   "outputs": [],
   "source": []
  },
  {
   "cell_type": "markdown",
   "metadata": {},
   "source": [
    "8. Quantos chamados desse subtipo foram abertos em cada evento?"
   ]
  },
  {
   "cell_type": "code",
   "execution_count": null,
   "metadata": {},
   "outputs": [],
   "source": []
  },
  {
   "cell_type": "markdown",
   "metadata": {},
   "source": [
    "9. Qual evento teve a maior média diária de chamados abertos desse subtipo?"
   ]
  },
  {
   "cell_type": "code",
   "execution_count": null,
   "metadata": {},
   "outputs": [],
   "source": []
  },
  {
   "cell_type": "markdown",
   "metadata": {},
   "source": [
    "10. Compare as médias diárias de chamados abertos desse subtipo durante os eventos específicos (Reveillon, Carnaval e Rock in Rio) e a média diária de chamados abertos desse subtipo considerando todo o período de 01/01/2022 até 31/12/2023."
   ]
  },
  {
   "cell_type": "code",
   "execution_count": null,
   "metadata": {},
   "outputs": [],
   "source": []
  }
 ],
 "metadata": {
  "kernelspec": {
   "display_name": ".venv",
   "language": "python",
   "name": "python3"
  },
  "language_info": {
   "codemirror_mode": {
    "name": "ipython",
    "version": 3
   },
   "file_extension": ".py",
   "mimetype": "text/x-python",
   "name": "python",
   "nbconvert_exporter": "python",
   "pygments_lexer": "ipython3",
   "version": "3.10.14"
  }
 },
 "nbformat": 4,
 "nbformat_minor": 2
}
