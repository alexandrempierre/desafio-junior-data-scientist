{
 "cells": [
  {
   "cell_type": "code",
   "execution_count": 1,
   "metadata": {},
   "outputs": [],
   "source": [
    "from datetime import date, datetime, timedelta\n",
    "import numpy as np\n",
    "import pandas as pd\n",
    "import dados"
   ]
  },
  {
   "cell_type": "markdown",
   "metadata": {},
   "source": [
    "## Localização de chamados do 1746\n",
    "#### Utilize a tabela de Chamados do 1746 e a tabela de Bairros do Rio de Janeiro para as perguntas de 1-5.\n",
    "\n",
    "1. Quantos chamados foram abertos no dia 01/04/2023?\n",
    "\n",
    "Resposta: No dia 01/04/2023 foram abertos 1756 chamados."
   ]
  },
  {
   "cell_type": "code",
   "execution_count": 2,
   "metadata": {},
   "outputs": [
    {
     "name": "stderr",
     "output_type": "stream",
     "text": [
      "Downloading: 100%|██████████| 1634336/1634336 [03:23<00:00, 8021.34rows/s]\n"
     ]
    }
   ],
   "source": [
    "df_chamado_1746 = dados.chamado_1746()"
   ]
  },
  {
   "cell_type": "code",
   "execution_count": 3,
   "metadata": {},
   "outputs": [
    {
     "data": {
      "text/plain": [
       "1756"
      ]
     },
     "execution_count": 3,
     "metadata": {},
     "output_type": "execute_result"
    }
   ],
   "source": [
    "df_chamado_1o_de_abril = df_chamado_1746[\n",
    "    (datetime(2023, 4, 1) <= df_chamado_1746[\"data_inicio\"])\n",
    "    & (df_chamado_1746[\"data_inicio\"] < datetime(2023, 4, 2))\n",
    "]\n",
    "df_chamado_1o_de_abril[\"id_chamado\"].count()"
   ]
  },
  {
   "cell_type": "markdown",
   "metadata": {},
   "source": [
    "2. Qual o tipo de chamado que teve mais teve chamados abertos no dia 01/04/2023?\n",
    "\n",
    "Resposta: no dia 01/04/2023 o tipo que teve mais chamados abertos foi \"Estacionamento irregular\"."
   ]
  },
  {
   "cell_type": "code",
   "execution_count": 4,
   "metadata": {},
   "outputs": [
    {
     "data": {
      "text/plain": [
       "id_tipo  tipo                    \n",
       "782      Estacionamento irregular    366\n",
       "dtype: int64"
      ]
     },
     "execution_count": 4,
     "metadata": {},
     "output_type": "execute_result"
    }
   ],
   "source": [
    "df_chamado_1o_de_abril[[\"id_tipo\", \"tipo\"]].value_counts().sort_values(\n",
    "    ascending=False\n",
    ").head(1)"
   ]
  },
  {
   "cell_type": "markdown",
   "metadata": {},
   "source": [
    "3. Quais os nomes dos 3 bairros que mais tiveram chamados abertos nesse dia?\n",
    "\n",
    "Resposta: Campo Grande com 113 chamados, Tijuca com 89 e Barra da Tijuca com 59."
   ]
  },
  {
   "cell_type": "code",
   "execution_count": 5,
   "metadata": {},
   "outputs": [],
   "source": [
    "df_bairro = dados.bairro()"
   ]
  },
  {
   "cell_type": "code",
   "execution_count": 6,
   "metadata": {},
   "outputs": [
    {
     "data": {
      "text/html": [
       "<div>\n",
       "<style scoped>\n",
       "    .dataframe tbody tr th:only-of-type {\n",
       "        vertical-align: middle;\n",
       "    }\n",
       "\n",
       "    .dataframe tbody tr th {\n",
       "        vertical-align: top;\n",
       "    }\n",
       "\n",
       "    .dataframe thead th {\n",
       "        text-align: right;\n",
       "    }\n",
       "</style>\n",
       "<table border=\"1\" class=\"dataframe\">\n",
       "  <thead>\n",
       "    <tr style=\"text-align: right;\">\n",
       "      <th></th>\n",
       "      <th>count</th>\n",
       "      <th>nome</th>\n",
       "    </tr>\n",
       "    <tr>\n",
       "      <th>id_bairro</th>\n",
       "      <th></th>\n",
       "      <th></th>\n",
       "    </tr>\n",
       "  </thead>\n",
       "  <tbody>\n",
       "    <tr>\n",
       "      <th>144</th>\n",
       "      <td>113</td>\n",
       "      <td>Campo Grande</td>\n",
       "    </tr>\n",
       "    <tr>\n",
       "      <th>33</th>\n",
       "      <td>89</td>\n",
       "      <td>Tijuca</td>\n",
       "    </tr>\n",
       "    <tr>\n",
       "      <th>128</th>\n",
       "      <td>59</td>\n",
       "      <td>Barra da Tijuca</td>\n",
       "    </tr>\n",
       "  </tbody>\n",
       "</table>\n",
       "</div>"
      ],
      "text/plain": [
       "           count             nome\n",
       "id_bairro                        \n",
       "144          113     Campo Grande\n",
       "33            89           Tijuca\n",
       "128           59  Barra da Tijuca"
      ]
     },
     "execution_count": 6,
     "metadata": {},
     "output_type": "execute_result"
    }
   ],
   "source": [
    "df_top_reclamacoes = pd.DataFrame(\n",
    "    df_chamado_1o_de_abril[[\"id_bairro\"]].value_counts(), columns=[\"count\"]\n",
    ")\n",
    "pd.merge(\n",
    "    df_top_reclamacoes,\n",
    "    df_bairro[[\"id_bairro\", \"nome\"]].set_index(\"id_bairro\"),\n",
    "    on=[\"id_bairro\"],\n",
    ").head(3)"
   ]
  },
  {
   "cell_type": "markdown",
   "metadata": {},
   "source": [
    "4. Qual o nome da subprefeitura com mais chamados abertos nesse dia?\n",
    "\n",
    "Resposta: Zona Norte com 510 chamados."
   ]
  },
  {
   "cell_type": "code",
   "execution_count": 7,
   "metadata": {},
   "outputs": [
    {
     "data": {
      "text/html": [
       "<div>\n",
       "<style scoped>\n",
       "    .dataframe tbody tr th:only-of-type {\n",
       "        vertical-align: middle;\n",
       "    }\n",
       "\n",
       "    .dataframe tbody tr th {\n",
       "        vertical-align: top;\n",
       "    }\n",
       "\n",
       "    .dataframe thead th {\n",
       "        text-align: right;\n",
       "    }\n",
       "</style>\n",
       "<table border=\"1\" class=\"dataframe\">\n",
       "  <thead>\n",
       "    <tr style=\"text-align: right;\">\n",
       "      <th></th>\n",
       "      <th>count</th>\n",
       "    </tr>\n",
       "    <tr>\n",
       "      <th>subprefeitura</th>\n",
       "      <th></th>\n",
       "    </tr>\n",
       "  </thead>\n",
       "  <tbody>\n",
       "    <tr>\n",
       "      <th>Zona Norte</th>\n",
       "      <td>510</td>\n",
       "    </tr>\n",
       "  </tbody>\n",
       "</table>\n",
       "</div>"
      ],
      "text/plain": [
       "               count\n",
       "subprefeitura       \n",
       "Zona Norte       510"
      ]
     },
     "execution_count": 7,
     "metadata": {},
     "output_type": "execute_result"
    }
   ],
   "source": [
    "pd.merge(\n",
    "    df_top_reclamacoes, df_bairro[[\"id_bairro\", \"subprefeitura\"]], on=[\"id_bairro\"]\n",
    ").groupby([\"subprefeitura\"]).sum().sort_values(by=[\"count\"], ascending=False).head(1)"
   ]
  },
  {
   "cell_type": "markdown",
   "metadata": {},
   "source": [
    "5. Existe algum chamado aberto nesse dia que não foi associado a um bairro ou subprefeitura na tabela de bairros? Se sim, por que isso acontece?\n",
    "\n",
    "Resposta: Existem vários, todos estão associados a transporte/mobilidade ou atendimento por canais eletrônicos."
   ]
  },
  {
   "cell_type": "code",
   "execution_count": 8,
   "metadata": {},
   "outputs": [
    {
     "data": {
      "text/html": [
       "<div>\n",
       "<style scoped>\n",
       "    .dataframe tbody tr th:only-of-type {\n",
       "        vertical-align: middle;\n",
       "    }\n",
       "\n",
       "    .dataframe tbody tr th {\n",
       "        vertical-align: top;\n",
       "    }\n",
       "\n",
       "    .dataframe thead th {\n",
       "        text-align: right;\n",
       "    }\n",
       "</style>\n",
       "<table border=\"1\" class=\"dataframe\">\n",
       "  <thead>\n",
       "    <tr style=\"text-align: right;\">\n",
       "      <th></th>\n",
       "      <th>tipo</th>\n",
       "      <th>subtipo</th>\n",
       "    </tr>\n",
       "  </thead>\n",
       "  <tbody>\n",
       "    <tr>\n",
       "      <th>68</th>\n",
       "      <td>Ônibus</td>\n",
       "      <td>Fiscalização de irregularidades em linha de ôn...</td>\n",
       "    </tr>\n",
       "    <tr>\n",
       "      <th>80</th>\n",
       "      <td>Ônibus</td>\n",
       "      <td>Verificação de ar condicionado inoperante no ô...</td>\n",
       "    </tr>\n",
       "    <tr>\n",
       "      <th>210</th>\n",
       "      <td>Estacionamento irregular</td>\n",
       "      <td>Fiscalização de estacionamento irregular de ve...</td>\n",
       "    </tr>\n",
       "    <tr>\n",
       "      <th>269</th>\n",
       "      <td>Transporte Especial Complementar - TEC</td>\n",
       "      <td>Fiscalização do transporte complementar</td>\n",
       "    </tr>\n",
       "    <tr>\n",
       "      <th>272</th>\n",
       "      <td>Atendimento ao cidadão</td>\n",
       "      <td>Solicitação de correção de falhas e de cadastr...</td>\n",
       "    </tr>\n",
       "    <tr>\n",
       "      <th>463</th>\n",
       "      <td>Alvará</td>\n",
       "      <td>Solicitação de orientações sobre o alvará pela...</td>\n",
       "    </tr>\n",
       "    <tr>\n",
       "      <th>556</th>\n",
       "      <td>Defesa do Consumidor</td>\n",
       "      <td>Verificação de problemas com produtos ou servi...</td>\n",
       "    </tr>\n",
       "    <tr>\n",
       "      <th>868</th>\n",
       "      <td>Atendimento ao cidadão</td>\n",
       "      <td>Solicitação da gravação do atendimento 1746</td>\n",
       "    </tr>\n",
       "    <tr>\n",
       "      <th>1027</th>\n",
       "      <td>BRT (corredor expresso de ônibus)</td>\n",
       "      <td>Verificação do serviço BRT - Transolímpica</td>\n",
       "    </tr>\n",
       "  </tbody>\n",
       "</table>\n",
       "</div>"
      ],
      "text/plain": [
       "                                        tipo  \\\n",
       "68                                    Ônibus   \n",
       "80                                    Ônibus   \n",
       "210                 Estacionamento irregular   \n",
       "269   Transporte Especial Complementar - TEC   \n",
       "272                   Atendimento ao cidadão   \n",
       "463                                   Alvará   \n",
       "556                     Defesa do Consumidor   \n",
       "868                   Atendimento ao cidadão   \n",
       "1027       BRT (corredor expresso de ônibus)   \n",
       "\n",
       "                                                subtipo  \n",
       "68    Fiscalização de irregularidades em linha de ôn...  \n",
       "80    Verificação de ar condicionado inoperante no ô...  \n",
       "210   Fiscalização de estacionamento irregular de ve...  \n",
       "269             Fiscalização do transporte complementar  \n",
       "272   Solicitação de correção de falhas e de cadastr...  \n",
       "463   Solicitação de orientações sobre o alvará pela...  \n",
       "556   Verificação de problemas com produtos ou servi...  \n",
       "868         Solicitação da gravação do atendimento 1746  \n",
       "1027         Verificação do serviço BRT - Transolímpica  "
      ]
     },
     "execution_count": 8,
     "metadata": {},
     "output_type": "execute_result"
    }
   ],
   "source": [
    "df_chamado_bairro = pd.merge(\n",
    "    df_chamado_1o_de_abril[[\"id_bairro\", \"tipo\", \"subtipo\"]],\n",
    "    df_bairro[[\"id_bairro\", \"nome\", \"subprefeitura\"]].set_index(\"id_bairro\"),\n",
    "    on=[\"id_bairro\"],\n",
    "    how=\"left\",\n",
    ")\n",
    "df_chamado_bairro[df_chamado_bairro[\"nome\"].isnull()][\n",
    "    [\"tipo\", \"subtipo\"]\n",
    "].drop_duplicates()"
   ]
  },
  {
   "cell_type": "markdown",
   "metadata": {},
   "source": [
    "## Chamados do 1746 em grandes eventos\n",
    "#### Utilize a tabela de Chamados do 1746 e a tabela de Ocupação Hoteleira em Grandes Eventos no Rio para as perguntas de 6-10. Para todas as perguntas considere o subtipo de chamado \"Perturbação do sossego\".\n",
    "\n",
    "6. Quantos chamados com o subtipo \"Perturbação do sossego\" foram abertos desde 01/01/2022 até 31/12/2023 (incluindo extremidades)?\n",
    "\n",
    "Resposta: 42830 chamados"
   ]
  },
  {
   "cell_type": "code",
   "execution_count": 9,
   "metadata": {},
   "outputs": [
    {
     "data": {
      "text/plain": [
       "id_chamado    42830\n",
       "dtype: int64"
      ]
     },
     "execution_count": 9,
     "metadata": {},
     "output_type": "execute_result"
    }
   ],
   "source": [
    "df_perturbacao = df_chamado_1746[df_chamado_1746[\"subtipo\"] == \"Perturbação do sossego\"]\n",
    "df_perturbacao[[\"id_chamado\"]].count()"
   ]
  },
  {
   "cell_type": "markdown",
   "metadata": {},
   "source": [
    "7. Selecione os chamados com esse subtipo que foram abertos durante os eventos contidos na tabela de eventos (Reveillon, Carnaval e Rock in Rio)."
   ]
  },
  {
   "cell_type": "code",
   "execution_count": 10,
   "metadata": {},
   "outputs": [],
   "source": [
    "df_eventos = dados.eventos()\n",
    "df_eventos[\"data_inicial\"] = pd.to_datetime(df_eventos[\"data_inicial\"])\n",
    "df_eventos[\"data_final\"] = pd.to_datetime(df_eventos[\"data_final\"]) + timedelta(days=1)"
   ]
  },
  {
   "cell_type": "code",
   "execution_count": 11,
   "metadata": {},
   "outputs": [
    {
     "data": {
      "text/html": [
       "<div>\n",
       "<style scoped>\n",
       "    .dataframe tbody tr th:only-of-type {\n",
       "        vertical-align: middle;\n",
       "    }\n",
       "\n",
       "    .dataframe tbody tr th {\n",
       "        vertical-align: top;\n",
       "    }\n",
       "\n",
       "    .dataframe thead th {\n",
       "        text-align: right;\n",
       "    }\n",
       "</style>\n",
       "<table border=\"1\" class=\"dataframe\">\n",
       "  <thead>\n",
       "    <tr style=\"text-align: right;\">\n",
       "      <th></th>\n",
       "      <th>evento</th>\n",
       "      <th>id_chamado</th>\n",
       "      <th>data_inicial</th>\n",
       "      <th>data_inicio</th>\n",
       "      <th>data_final</th>\n",
       "      <th>id_bairro</th>\n",
       "      <th>id_tipo</th>\n",
       "      <th>tipo</th>\n",
       "      <th>id_subtipo</th>\n",
       "      <th>subtipo</th>\n",
       "    </tr>\n",
       "  </thead>\n",
       "  <tbody>\n",
       "    <tr>\n",
       "      <th>7452</th>\n",
       "      <td>Rock in Rio</td>\n",
       "      <td>17684216</td>\n",
       "      <td>2022-09-08</td>\n",
       "      <td>2022-09-10 20:50:59</td>\n",
       "      <td>2022-09-12</td>\n",
       "      <td>42</td>\n",
       "      <td>1615</td>\n",
       "      <td>Perturbação do sossego</td>\n",
       "      <td>5071</td>\n",
       "      <td>Perturbação do sossego</td>\n",
       "    </tr>\n",
       "    <tr>\n",
       "      <th>7453</th>\n",
       "      <td>Rock in Rio</td>\n",
       "      <td>17684125</td>\n",
       "      <td>2022-09-08</td>\n",
       "      <td>2022-09-10 20:04:05</td>\n",
       "      <td>2022-09-12</td>\n",
       "      <td>43</td>\n",
       "      <td>1615</td>\n",
       "      <td>Perturbação do sossego</td>\n",
       "      <td>5071</td>\n",
       "      <td>Perturbação do sossego</td>\n",
       "    </tr>\n",
       "    <tr>\n",
       "      <th>7458</th>\n",
       "      <td>Rock in Rio</td>\n",
       "      <td>17684038</td>\n",
       "      <td>2022-09-08</td>\n",
       "      <td>2022-09-10 18:54:32</td>\n",
       "      <td>2022-09-12</td>\n",
       "      <td>151</td>\n",
       "      <td>1615</td>\n",
       "      <td>Perturbação do sossego</td>\n",
       "      <td>5071</td>\n",
       "      <td>Perturbação do sossego</td>\n",
       "    </tr>\n",
       "    <tr>\n",
       "      <th>7462</th>\n",
       "      <td>Rock in Rio</td>\n",
       "      <td>17685088</td>\n",
       "      <td>2022-09-08</td>\n",
       "      <td>2022-09-11 15:09:19</td>\n",
       "      <td>2022-09-12</td>\n",
       "      <td>68</td>\n",
       "      <td>1615</td>\n",
       "      <td>Perturbação do sossego</td>\n",
       "      <td>5071</td>\n",
       "      <td>Perturbação do sossego</td>\n",
       "    </tr>\n",
       "    <tr>\n",
       "      <th>7466</th>\n",
       "      <td>Rock in Rio</td>\n",
       "      <td>17684132</td>\n",
       "      <td>2022-09-08</td>\n",
       "      <td>2022-09-10 20:06:37</td>\n",
       "      <td>2022-09-12</td>\n",
       "      <td>50</td>\n",
       "      <td>1615</td>\n",
       "      <td>Perturbação do sossego</td>\n",
       "      <td>5071</td>\n",
       "      <td>Perturbação do sossego</td>\n",
       "    </tr>\n",
       "    <tr>\n",
       "      <th>...</th>\n",
       "      <td>...</td>\n",
       "      <td>...</td>\n",
       "      <td>...</td>\n",
       "      <td>...</td>\n",
       "      <td>...</td>\n",
       "      <td>...</td>\n",
       "      <td>...</td>\n",
       "      <td>...</td>\n",
       "      <td>...</td>\n",
       "      <td>...</td>\n",
       "    </tr>\n",
       "    <tr>\n",
       "      <th>169749</th>\n",
       "      <td>Carnaval</td>\n",
       "      <td>18328421</td>\n",
       "      <td>2023-02-18</td>\n",
       "      <td>2023-02-18 12:05:37</td>\n",
       "      <td>2023-02-22</td>\n",
       "      <td>64</td>\n",
       "      <td>1615</td>\n",
       "      <td>Perturbação do sossego</td>\n",
       "      <td>5071</td>\n",
       "      <td>Perturbação do sossego</td>\n",
       "    </tr>\n",
       "    <tr>\n",
       "      <th>169754</th>\n",
       "      <td>Carnaval</td>\n",
       "      <td>18331560</td>\n",
       "      <td>2023-02-18</td>\n",
       "      <td>2023-02-20 09:09:39</td>\n",
       "      <td>2023-02-22</td>\n",
       "      <td>52</td>\n",
       "      <td>1615</td>\n",
       "      <td>Perturbação do sossego</td>\n",
       "      <td>5071</td>\n",
       "      <td>Perturbação do sossego</td>\n",
       "    </tr>\n",
       "    <tr>\n",
       "      <th>169759</th>\n",
       "      <td>Carnaval</td>\n",
       "      <td>18333678</td>\n",
       "      <td>2023-02-18</td>\n",
       "      <td>2023-02-21 11:07:57</td>\n",
       "      <td>2023-02-22</td>\n",
       "      <td>144</td>\n",
       "      <td>1615</td>\n",
       "      <td>Perturbação do sossego</td>\n",
       "      <td>5071</td>\n",
       "      <td>Perturbação do sossego</td>\n",
       "    </tr>\n",
       "    <tr>\n",
       "      <th>169761</th>\n",
       "      <td>Carnaval</td>\n",
       "      <td>18331051</td>\n",
       "      <td>2023-02-18</td>\n",
       "      <td>2023-02-19 20:07:53</td>\n",
       "      <td>2023-02-22</td>\n",
       "      <td>14</td>\n",
       "      <td>1615</td>\n",
       "      <td>Perturbação do sossego</td>\n",
       "      <td>5071</td>\n",
       "      <td>Perturbação do sossego</td>\n",
       "    </tr>\n",
       "    <tr>\n",
       "      <th>169771</th>\n",
       "      <td>Carnaval</td>\n",
       "      <td>18333244</td>\n",
       "      <td>2023-02-18</td>\n",
       "      <td>2023-02-21 03:23:06</td>\n",
       "      <td>2023-02-22</td>\n",
       "      <td>74</td>\n",
       "      <td>1615</td>\n",
       "      <td>Perturbação do sossego</td>\n",
       "      <td>5071</td>\n",
       "      <td>Perturbação do sossego</td>\n",
       "    </tr>\n",
       "  </tbody>\n",
       "</table>\n",
       "<p>1214 rows × 10 columns</p>\n",
       "</div>"
      ],
      "text/plain": [
       "             evento id_chamado data_inicial         data_inicio data_final  \\\n",
       "7452    Rock in Rio   17684216   2022-09-08 2022-09-10 20:50:59 2022-09-12   \n",
       "7453    Rock in Rio   17684125   2022-09-08 2022-09-10 20:04:05 2022-09-12   \n",
       "7458    Rock in Rio   17684038   2022-09-08 2022-09-10 18:54:32 2022-09-12   \n",
       "7462    Rock in Rio   17685088   2022-09-08 2022-09-11 15:09:19 2022-09-12   \n",
       "7466    Rock in Rio   17684132   2022-09-08 2022-09-10 20:06:37 2022-09-12   \n",
       "...             ...        ...          ...                 ...        ...   \n",
       "169749     Carnaval   18328421   2023-02-18 2023-02-18 12:05:37 2023-02-22   \n",
       "169754     Carnaval   18331560   2023-02-18 2023-02-20 09:09:39 2023-02-22   \n",
       "169759     Carnaval   18333678   2023-02-18 2023-02-21 11:07:57 2023-02-22   \n",
       "169761     Carnaval   18331051   2023-02-18 2023-02-19 20:07:53 2023-02-22   \n",
       "169771     Carnaval   18333244   2023-02-18 2023-02-21 03:23:06 2023-02-22   \n",
       "\n",
       "       id_bairro id_tipo                    tipo id_subtipo  \\\n",
       "7452          42    1615  Perturbação do sossego       5071   \n",
       "7453          43    1615  Perturbação do sossego       5071   \n",
       "7458         151    1615  Perturbação do sossego       5071   \n",
       "7462          68    1615  Perturbação do sossego       5071   \n",
       "7466          50    1615  Perturbação do sossego       5071   \n",
       "...          ...     ...                     ...        ...   \n",
       "169749        64    1615  Perturbação do sossego       5071   \n",
       "169754        52    1615  Perturbação do sossego       5071   \n",
       "169759       144    1615  Perturbação do sossego       5071   \n",
       "169761        14    1615  Perturbação do sossego       5071   \n",
       "169771        74    1615  Perturbação do sossego       5071   \n",
       "\n",
       "                       subtipo  \n",
       "7452    Perturbação do sossego  \n",
       "7453    Perturbação do sossego  \n",
       "7458    Perturbação do sossego  \n",
       "7462    Perturbação do sossego  \n",
       "7466    Perturbação do sossego  \n",
       "...                        ...  \n",
       "169749  Perturbação do sossego  \n",
       "169754  Perturbação do sossego  \n",
       "169759  Perturbação do sossego  \n",
       "169761  Perturbação do sossego  \n",
       "169771  Perturbação do sossego  \n",
       "\n",
       "[1214 rows x 10 columns]"
      ]
     },
     "execution_count": 11,
     "metadata": {},
     "output_type": "execute_result"
    }
   ],
   "source": [
    "df_eventos_cross_perturbacao = pd.merge(df_eventos, df_perturbacao, how=\"cross\")\n",
    "df_eventos_perturbacao = df_eventos_cross_perturbacao.query(\n",
    "    \"data_inicial <= data_inicio < data_final\"\n",
    ")[\n",
    "    [\n",
    "        \"evento\",\n",
    "        \"id_chamado\",\n",
    "        \"data_inicial\",\n",
    "        \"data_inicio\",\n",
    "        \"data_final\",\n",
    "        \"id_bairro\",\n",
    "        \"id_tipo\",\n",
    "        \"tipo\",\n",
    "        \"id_subtipo\",\n",
    "        \"subtipo\",\n",
    "    ]\n",
    "]\n",
    "df_eventos_perturbacao"
   ]
  },
  {
   "cell_type": "markdown",
   "metadata": {},
   "source": [
    "8. Quantos chamados desse subtipo foram abertos em cada evento?\n",
    "\n",
    "Resposta: 834 no Rock in Rio, 241 no Carnaval, 139 no Reveillon."
   ]
  },
  {
   "cell_type": "code",
   "execution_count": 27,
   "metadata": {},
   "outputs": [
    {
     "data": {
      "text/html": [
       "<div>\n",
       "<style scoped>\n",
       "    .dataframe tbody tr th:only-of-type {\n",
       "        vertical-align: middle;\n",
       "    }\n",
       "\n",
       "    .dataframe tbody tr th {\n",
       "        vertical-align: top;\n",
       "    }\n",
       "\n",
       "    .dataframe thead th {\n",
       "        text-align: right;\n",
       "    }\n",
       "</style>\n",
       "<table border=\"1\" class=\"dataframe\">\n",
       "  <thead>\n",
       "    <tr style=\"text-align: right;\">\n",
       "      <th></th>\n",
       "      <th>id_chamado</th>\n",
       "    </tr>\n",
       "    <tr>\n",
       "      <th>evento</th>\n",
       "      <th></th>\n",
       "    </tr>\n",
       "  </thead>\n",
       "  <tbody>\n",
       "    <tr>\n",
       "      <th>Rock in Rio</th>\n",
       "      <td>834</td>\n",
       "    </tr>\n",
       "    <tr>\n",
       "      <th>Carnaval</th>\n",
       "      <td>241</td>\n",
       "    </tr>\n",
       "    <tr>\n",
       "      <th>Reveillon</th>\n",
       "      <td>139</td>\n",
       "    </tr>\n",
       "  </tbody>\n",
       "</table>\n",
       "</div>"
      ],
      "text/plain": [
       "             id_chamado\n",
       "evento                 \n",
       "Rock in Rio         834\n",
       "Carnaval            241\n",
       "Reveillon           139"
      ]
     },
     "execution_count": 27,
     "metadata": {},
     "output_type": "execute_result"
    }
   ],
   "source": [
    "df_eventos_perturbacao_count = df_eventos_perturbacao[[\"evento\", \"id_chamado\"]].drop_duplicates().groupby(\n",
    "    [\"evento\"]\n",
    ").count().sort_values(by=[\"id_chamado\"], ascending=False)\n",
    "df_eventos_perturbacao_count.head()"
   ]
  },
  {
   "cell_type": "markdown",
   "metadata": {},
   "source": [
    "9. Qual evento teve a maior média diária de chamados abertos desse subtipo?\n",
    "\n",
    "Resposta: Rock in Rio com aproximadamente 119,14 chamados/dia."
   ]
  },
  {
   "cell_type": "code",
   "execution_count": 39,
   "metadata": {},
   "outputs": [
    {
     "data": {
      "text/html": [
       "<div>\n",
       "<style scoped>\n",
       "    .dataframe tbody tr th:only-of-type {\n",
       "        vertical-align: middle;\n",
       "    }\n",
       "\n",
       "    .dataframe tbody tr th {\n",
       "        vertical-align: top;\n",
       "    }\n",
       "\n",
       "    .dataframe thead th {\n",
       "        text-align: right;\n",
       "    }\n",
       "</style>\n",
       "<table border=\"1\" class=\"dataframe\">\n",
       "  <thead>\n",
       "    <tr style=\"text-align: right;\">\n",
       "      <th></th>\n",
       "      <th>duracao</th>\n",
       "      <th>id_chamado</th>\n",
       "      <th>chamados_por_dia</th>\n",
       "    </tr>\n",
       "    <tr>\n",
       "      <th>evento</th>\n",
       "      <th></th>\n",
       "      <th></th>\n",
       "      <th></th>\n",
       "    </tr>\n",
       "  </thead>\n",
       "  <tbody>\n",
       "    <tr>\n",
       "      <th>Carnaval</th>\n",
       "      <td>4</td>\n",
       "      <td>241</td>\n",
       "      <td>60.250000</td>\n",
       "    </tr>\n",
       "    <tr>\n",
       "      <th>Reveillon</th>\n",
       "      <td>3</td>\n",
       "      <td>139</td>\n",
       "      <td>46.333333</td>\n",
       "    </tr>\n",
       "    <tr>\n",
       "      <th>Rock in Rio</th>\n",
       "      <td>7</td>\n",
       "      <td>834</td>\n",
       "      <td>119.142857</td>\n",
       "    </tr>\n",
       "  </tbody>\n",
       "</table>\n",
       "</div>"
      ],
      "text/plain": [
       "             duracao  id_chamado  chamados_por_dia\n",
       "evento                                            \n",
       "Carnaval           4         241         60.250000\n",
       "Reveillon          3         139         46.333333\n",
       "Rock in Rio        7         834        119.142857"
      ]
     },
     "execution_count": 39,
     "metadata": {},
     "output_type": "execute_result"
    }
   ],
   "source": [
    "df_eventos[\"duracao\"] = (df_eventos[\"data_final\"] - df_eventos[\"data_inicial\"]).apply(\n",
    "    lambda td: td.days\n",
    ")\n",
    "df_eventos_duracao = df_eventos.groupby([\"evento\"]).sum()[[\"duracao\"]]\n",
    "df_eventos_resumo = pd.merge(\n",
    "    df_eventos_duracao,\n",
    "    df_eventos_perturbacao_count,\n",
    "    on=[\"evento\"],\n",
    "    how=\"inner\"\n",
    ")\n",
    "df_eventos_resumo[\"chamados_por_dia\"] = df_eventos_resumo[\"id_chamado\"] / df_eventos_resumo[\"duracao\"]\n",
    "df_eventos_resumo.head()"
   ]
  },
  {
   "cell_type": "markdown",
   "metadata": {},
   "source": [
    "10. Compare as médias diárias de chamados abertos desse subtipo durante os eventos específicos (Reveillon, Carnaval e Rock in Rio) e a média diária de chamados abertos desse subtipo considerando todo o período de 01/01/2022 até 31/12/2023.\n",
    "\n",
    "Resposta: A média no Intervalo de 01/01/2022 a 31/12/2023 (aprox 59,75 chamados/dia) é menor que as de Rock in Rio (aprox 119,14 chamados/dia), do Carnaval (60,25 chamados/dia) e maior que a do Reveillon (aprox 46,33 chamados/dia)."
   ]
  },
  {
   "cell_type": "code",
   "execution_count": 60,
   "metadata": {},
   "outputs": [
    {
     "data": {
      "text/html": [
       "<div>\n",
       "<style scoped>\n",
       "    .dataframe tbody tr th:only-of-type {\n",
       "        vertical-align: middle;\n",
       "    }\n",
       "\n",
       "    .dataframe tbody tr th {\n",
       "        vertical-align: top;\n",
       "    }\n",
       "\n",
       "    .dataframe thead th {\n",
       "        text-align: right;\n",
       "    }\n",
       "</style>\n",
       "<table border=\"1\" class=\"dataframe\">\n",
       "  <thead>\n",
       "    <tr style=\"text-align: right;\">\n",
       "      <th></th>\n",
       "      <th>chamados_por_dia</th>\n",
       "    </tr>\n",
       "  </thead>\n",
       "  <tbody>\n",
       "    <tr>\n",
       "      <th>Rock in Rio</th>\n",
       "      <td>119.142857</td>\n",
       "    </tr>\n",
       "    <tr>\n",
       "      <th>Carnaval</th>\n",
       "      <td>60.250000</td>\n",
       "    </tr>\n",
       "    <tr>\n",
       "      <th>Intervalo de 01/01/2022 a 31/12/2023</th>\n",
       "      <td>59.751715</td>\n",
       "    </tr>\n",
       "    <tr>\n",
       "      <th>Reveillon</th>\n",
       "      <td>46.333333</td>\n",
       "    </tr>\n",
       "  </tbody>\n",
       "</table>\n",
       "</div>"
      ],
      "text/plain": [
       "                                      chamados_por_dia\n",
       "Rock in Rio                                 119.142857\n",
       "Carnaval                                     60.250000\n",
       "Intervalo de 01/01/2022 a 31/12/2023         59.751715\n",
       "Reveillon                                    46.333333"
      ]
     },
     "execution_count": 60,
     "metadata": {},
     "output_type": "execute_result"
    }
   ],
   "source": [
    "total_chamados = df_perturbacao[[\"id_chamado\"]].count().values[0]\n",
    "df_eventos_media = df_eventos_resumo[[\"chamados_por_dia\"]]\n",
    "df_eventos_media.append(\n",
    "    pd.DataFrame(\n",
    "        columns=[\"chamados_por_dia\"],\n",
    "        data=[total_chamados / (date(2023, 12, 31) - date(2022, 1, 1)).days + 1],\n",
    "        index=[\"Intervalo de 01/01/2022 a 31/12/2023\"],\n",
    "    )\n",
    ").sort_values(by=[\"chamados_por_dia\"], ascending=False)\n",
    "# df_eventos_media"
   ]
  },
  {
   "cell_type": "code",
   "execution_count": null,
   "metadata": {},
   "outputs": [],
   "source": []
  }
 ],
 "metadata": {
  "kernelspec": {
   "display_name": ".venv",
   "language": "python",
   "name": "python3"
  },
  "language_info": {
   "codemirror_mode": {
    "name": "ipython",
    "version": 3
   },
   "file_extension": ".py",
   "mimetype": "text/x-python",
   "name": "python",
   "nbconvert_exporter": "python",
   "pygments_lexer": "ipython3",
   "version": "3.10.14"
  }
 },
 "nbformat": 4,
 "nbformat_minor": 2
}
